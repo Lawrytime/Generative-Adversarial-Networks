{
 "cells": [
  {
   "cell_type": "markdown",
   "id": "22751bf8-30e0-479e-a196-e1412e3c86d4",
   "metadata": {},
   "source": [
    "## Importing Libraries and Dependencies"
   ]
  },
  {
   "cell_type": "code",
   "execution_count": 1,
   "id": "a5858a91-f2c5-4b77-84eb-2449481dadaf",
   "metadata": {},
   "outputs": [],
   "source": [
    "import torch\n",
    "import torch.nn as nn\n",
    "import torch.optim as optim\n",
    "import torchvision\n",
    "import torchvision.datasets as datasets\n",
    "import torchvision.transforms as transforms\n",
    "from torch.utils.data import DataLoader\n",
    "from torch.utils.tensorboard import SummaryWriter"
   ]
  },
  {
   "cell_type": "markdown",
   "id": "70d50f6d-d88a-48e8-9a3a-389fb5f51bf1",
   "metadata": {},
   "source": [
    "## Creating the Discriminator and Generator Classes"
   ]
  },
  {
   "cell_type": "code",
   "execution_count": 2,
   "id": "3f255888-fc24-4152-a90e-f2e300e20de4",
   "metadata": {},
   "outputs": [],
   "source": [
    "class Discriminator(nn.Module):\n",
    "    def __init__(self, img_dim):\n",
    "        super().__init__()\n",
    "        self.disc = nn.Sequential(\n",
    "                        nn.Linear(img_dim, 128),\n",
    "                        nn.LeakyReLU(0.1),\n",
    "                        nn.Linear(128, 1),\n",
    "                        nn.Sigmoid())\n",
    "    def forward(self, x):\n",
    "        return self.disc(x)\n",
    "    \n",
    "class Generator(nn.Module):\n",
    "    def __init__(self, z_dim, img_dim):\n",
    "        super().__init__()\n",
    "        self.gen = nn.Sequential(\n",
    "                        nn.Linear(z_dim, 256),\n",
    "                        nn.LeakyReLU(0.1),\n",
    "                        nn.Linear(256, img_dim),\n",
    "                        nn.Tanh())\n",
    "    def forward(self, x):\n",
    "        return self.gen(x)"
   ]
  },
  {
   "cell_type": "markdown",
   "id": "b29eb6a8-ee36-4ef9-b8a2-b1a5280ad685",
   "metadata": {},
   "source": [
    "### Hyperparameters and Initializations"
   ]
  },
  {
   "cell_type": "code",
   "execution_count": 3,
   "id": "5d50d55c-af31-4c03-94cf-bb65fdd5f3f1",
   "metadata": {},
   "outputs": [
    {
     "name": "stdout",
     "output_type": "stream",
     "text": [
      "Epoch [1/50] \\ Loss D: 0.7269, 0.7427\n",
      "Epoch [2/50] \\ Loss D: 0.1916, 5.5330\n",
      "Epoch [3/50] \\ Loss D: 0.2375, 4.6466\n",
      "Epoch [4/50] \\ Loss D: 0.4133, 3.9732\n",
      "Epoch [5/50] \\ Loss D: 0.6609, 5.8680\n",
      "Epoch [6/50] \\ Loss D: 0.0745, 6.9675\n",
      "Epoch [7/50] \\ Loss D: 0.2593, 3.3839\n",
      "Epoch [8/50] \\ Loss D: 0.3779, 4.3812\n",
      "Epoch [9/50] \\ Loss D: 0.5799, 4.1994\n",
      "Epoch [10/50] \\ Loss D: 0.4051, 2.5164\n",
      "Epoch [11/50] \\ Loss D: 0.5031, 2.1605\n",
      "Epoch [12/50] \\ Loss D: 0.4063, 3.7229\n",
      "Epoch [13/50] \\ Loss D: 0.6045, 3.2286\n",
      "Epoch [14/50] \\ Loss D: 0.4953, 2.2602\n",
      "Epoch [15/50] \\ Loss D: 0.5121, 2.4665\n",
      "Epoch [16/50] \\ Loss D: 0.6417, 1.7855\n",
      "Epoch [17/50] \\ Loss D: 0.6818, 1.4048\n",
      "Epoch [18/50] \\ Loss D: 0.4629, 3.2133\n",
      "Epoch [19/50] \\ Loss D: 0.4479, 1.5561\n",
      "Epoch [20/50] \\ Loss D: 0.4977, 2.7479\n",
      "Epoch [21/50] \\ Loss D: 0.7136, 2.4512\n",
      "Epoch [22/50] \\ Loss D: 0.5992, 1.4490\n",
      "Epoch [23/50] \\ Loss D: 0.6875, 2.0628\n",
      "Epoch [24/50] \\ Loss D: 0.8031, 1.2425\n",
      "Epoch [25/50] \\ Loss D: 0.6229, 1.6627\n",
      "Epoch [26/50] \\ Loss D: 0.5265, 2.1183\n",
      "Epoch [27/50] \\ Loss D: 0.5468, 1.8670\n",
      "Epoch [28/50] \\ Loss D: 0.5649, 2.9572\n",
      "Epoch [29/50] \\ Loss D: 0.6399, 1.3515\n",
      "Epoch [30/50] \\ Loss D: 0.8534, 1.2328\n",
      "Epoch [31/50] \\ Loss D: 0.4744, 2.3890\n",
      "Epoch [32/50] \\ Loss D: 0.7144, 2.1952\n",
      "Epoch [33/50] \\ Loss D: 0.3899, 2.3917\n",
      "Epoch [34/50] \\ Loss D: 0.6524, 2.0774\n",
      "Epoch [35/50] \\ Loss D: 0.8812, 1.4653\n",
      "Epoch [36/50] \\ Loss D: 0.5374, 2.1662\n",
      "Epoch [37/50] \\ Loss D: 0.7906, 1.1269\n",
      "Epoch [38/50] \\ Loss D: 0.8066, 1.5270\n",
      "Epoch [39/50] \\ Loss D: 0.7064, 3.2696\n",
      "Epoch [40/50] \\ Loss D: 0.7150, 1.1701\n",
      "Epoch [41/50] \\ Loss D: 0.7497, 2.1490\n",
      "Epoch [42/50] \\ Loss D: 0.5528, 1.9582\n",
      "Epoch [43/50] \\ Loss D: 0.5799, 2.7524\n",
      "Epoch [44/50] \\ Loss D: 0.8486, 1.5287\n",
      "Epoch [45/50] \\ Loss D: 0.4944, 3.0320\n",
      "Epoch [46/50] \\ Loss D: 0.6334, 1.8324\n",
      "Epoch [47/50] \\ Loss D: 0.8961, 1.3626\n",
      "Epoch [48/50] \\ Loss D: 0.8116, 1.3416\n",
      "Epoch [49/50] \\ Loss D: 0.5828, 2.3528\n",
      "Epoch [50/50] \\ Loss D: 0.5103, 1.6141\n"
     ]
    }
   ],
   "source": [
    "device = \"cuda\" if torch.cuda.is_available() else \"cpu\"\n",
    "lr = 2e-3\n",
    "z_dim = 64\n",
    "img_dim = 28*28*1\n",
    "batch_size = 64\n",
    "num_epochs = 50\n",
    "\n",
    "disc = Discriminator(img_dim).to(device)\n",
    "gen = Generator(z_dim, img_dim).to(device)\n",
    "fixed_noise = torch.randn(batch_size, z_dim).to(device)\n",
    "transforms = transforms.Compose(\n",
    "            [transforms.ToTensor(), transforms.Normalize((0.5,), (0.5,))])\n",
    "dataset = datasets.MNIST(root = \"dataset/\", transform=transforms, download = True)\n",
    "loader = DataLoader(dataset, batch_size=batch_size, shuffle=True)\n",
    "opt_disc = optim.Adam(disc.parameters(), lr=lr)\n",
    "opt_gen = optim.Adam(gen.parameters(), lr=lr)\n",
    "criterion = nn.BCELoss()\n",
    "writer_fake = SummaryWriter(f\"runs/GAN_MNIST/fake\")\n",
    "writer_real = SummaryWriter(f\"runs/GAN_MNIST/real\")\n",
    "step = 0\n",
    "\n",
    "for epoch in range(1,num_epochs+1):\n",
    "    for batch_idx, (real, _) in enumerate(loader):\n",
    "        real = real.view(-1, 784).to(device)\n",
    "        batch_size = real.shape[0]\n",
    "        noise = torch.randn(batch_size, z_dim).to(device)\n",
    "        fake = gen(noise)\n",
    "        disc_real = disc(real).view(-1)\n",
    "        lossD_real = criterion(disc_real, torch.ones_like(disc_real))\n",
    "        disc_fake = disc(fake).view(-1)\n",
    "        lossD_fake = criterion(disc_fake, torch.zeros_like(disc_fake))\n",
    "        lossD = (lossD_real + lossD_fake) / 2\n",
    "        disc.zero_grad()\n",
    "        lossD.backward(retain_graph = True)\n",
    "        opt_disc.step()\n",
    "        \n",
    "        output = disc(fake).view(-1)\n",
    "        lossG = criterion(output, torch.ones_like(output))\n",
    "        gen.zero_grad()\n",
    "        lossG.backward()\n",
    "        opt_gen.step()\n",
    "        \n",
    "        if batch_idx == 0:\n",
    "            print(\n",
    "                f\"Epoch [{epoch}/{num_epochs}] \\ \"\n",
    "                f\"Loss D: {lossD:.4f}, {lossG:.4f}\"\n",
    "            )\n",
    "            \n",
    "            with torch.no_grad():\n",
    "                fake = gen(fixed_noise).reshape(-1, 1, 28, 28)\n",
    "                data = real.reshape(-1, 1, 28, 28)\n",
    "                img_grid_fake = torchvision.utils.make_grid(fake, normalize=True)\n",
    "                img_grid_real = torchvision.utils.make_grid(data, normalize=True)\n",
    "                \n",
    "                writer_fake.add_image(\n",
    "                            \"Mnist Fake Images\", img_grid_fake, global_step=step\n",
    "                )\n",
    "                \n",
    "                writer_real.add_image(\n",
    "                            \"Mnist Real Images\", img_grid_real, global_step=step\n",
    "                )\n",
    "                \n",
    "                step += 1"
   ]
  },
  {
   "cell_type": "code",
   "execution_count": 4,
   "id": "27e12cf6-2c06-4f53-ad88-c8ef5fa742e9",
   "metadata": {},
   "outputs": [],
   "source": [
    "# RUN \"tensorboard --logdir=runs\" on Anaconda or CMD to access Tensorboard."
   ]
  }
 ],
 "metadata": {
  "kernelspec": {
   "display_name": "Python 3",
   "language": "python",
   "name": "python3"
  },
  "language_info": {
   "codemirror_mode": {
    "name": "ipython",
    "version": 3
   },
   "file_extension": ".py",
   "mimetype": "text/x-python",
   "name": "python",
   "nbconvert_exporter": "python",
   "pygments_lexer": "ipython3",
   "version": "3.8.8"
  }
 },
 "nbformat": 4,
 "nbformat_minor": 5
}
